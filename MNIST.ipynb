{
  "nbformat": 4,
  "nbformat_minor": 0,
  "metadata": {
    "colab": {
      "provenance": []
    },
    "kernelspec": {
      "name": "python3",
      "display_name": "Python 3"
    },
    "language_info": {
      "name": "python"
    }
  },
  "cells": [
    {
      "cell_type": "code",
      "execution_count": 1,
      "metadata": {
        "colab": {
          "base_uri": "https://localhost:8080/"
        },
        "id": "PilezR_TLbIU",
        "outputId": "6e7e33dc-e709-4d5f-cc6e-ee2a77641b25"
      },
      "outputs": [
        {
          "output_type": "stream",
          "name": "stdout",
          "text": [
            "Downloading data from https://storage.googleapis.com/tensorflow/tf-keras-datasets/mnist.npz\n",
            "11490434/11490434 [==============================] - 0s 0us/step\n"
          ]
        }
      ],
      "source": [
        "from tensorflow.keras import datasets\n",
        "\n",
        "mnist = datasets.mnist\n",
        "\n",
        "(X_train, y_train), (X_test, y_test) = mnist.load_data()\n",
        "X_train, X_test = X_train / 255.0, X_test / 255.0\n",
        "\n",
        "X_train = X_train.reshape((60000, 28 ,28, 1))\n",
        "X_test = X_test.reshape((10000, 28 ,28, 1))"
      ]
    },
    {
      "cell_type": "code",
      "source": [
        "from tensorflow.keras import layers, models\n",
        "\n",
        "model = models.Sequential([\n",
        "    layers.Conv2D(32, kernel_size=(5, 5), strides=(1, 1),\n",
        "                  padding='same', activation='relu', input_shape=(28, 28, 1)),\n",
        "    layers.MaxPooling2D(pool_size=(2, 2), strides=(2, 2)),\n",
        "    layers.Conv2D(64, kernel_size=(2, 2), activation='relu', padding='same'),\n",
        "    layers.MaxPooling2D(pool_size=(2, 2)),\n",
        "    layers.Dropout(0.25),\n",
        "    layers.Flatten(),\n",
        "    layers.Dense(1000, activation='relu'),\n",
        "    layers.Dense(10, activation='softmax')\n",
        "])\n",
        "\n",
        "model.summary()"
      ],
      "metadata": {
        "colab": {
          "base_uri": "https://localhost:8080/"
        },
        "id": "jIk0XDC7M-0f",
        "outputId": "fab242e8-b50c-40f7-d0b5-8cd127497eb6"
      },
      "execution_count": 2,
      "outputs": [
        {
          "output_type": "stream",
          "name": "stdout",
          "text": [
            "Model: \"sequential\"\n",
            "_________________________________________________________________\n",
            " Layer (type)                Output Shape              Param #   \n",
            "=================================================================\n",
            " conv2d (Conv2D)             (None, 28, 28, 32)        832       \n",
            "                                                                 \n",
            " max_pooling2d (MaxPooling2D  (None, 14, 14, 32)       0         \n",
            " )                                                               \n",
            "                                                                 \n",
            " conv2d_1 (Conv2D)           (None, 14, 14, 64)        8256      \n",
            "                                                                 \n",
            " max_pooling2d_1 (MaxPooling  (None, 7, 7, 64)         0         \n",
            " 2D)                                                             \n",
            "                                                                 \n",
            " dropout (Dropout)           (None, 7, 7, 64)          0         \n",
            "                                                                 \n",
            " flatten (Flatten)           (None, 3136)              0         \n",
            "                                                                 \n",
            " dense (Dense)               (None, 1000)              3137000   \n",
            "                                                                 \n",
            " dense_1 (Dense)             (None, 10)                10010     \n",
            "                                                                 \n",
            "=================================================================\n",
            "Total params: 3,156,098\n",
            "Trainable params: 3,156,098\n",
            "Non-trainable params: 0\n",
            "_________________________________________________________________\n"
          ]
        }
      ]
    },
    {
      "cell_type": "code",
      "source": [
        "import time\n",
        "\n",
        "model.compile(optimizer='adam', loss = 'sparse_categorical_crossentropy', metrics=['accuracy'])\n",
        "\n",
        "start_time = time.time()\n",
        "\n",
        "hist = model.fit(X_train, y_train, epochs=5, verbose = 1, validation_data=(X_test, y_test))\n",
        "\n",
        "print(f'Fit Time :{time.time() - start_time}')\n"
      ],
      "metadata": {
        "colab": {
          "base_uri": "https://localhost:8080/"
        },
        "id": "k809XMkGNIRi",
        "outputId": "43be68fd-64b9-4f84-9f1d-7a633e3aeb17"
      },
      "execution_count": 3,
      "outputs": [
        {
          "output_type": "stream",
          "name": "stdout",
          "text": [
            "Epoch 1/5\n",
            "1875/1875 [==============================] - 129s 68ms/step - loss: 0.1163 - accuracy: 0.9640 - val_loss: 0.0397 - val_accuracy: 0.9859\n",
            "Epoch 2/5\n",
            "1875/1875 [==============================] - 128s 68ms/step - loss: 0.0457 - accuracy: 0.9856 - val_loss: 0.0329 - val_accuracy: 0.9894\n",
            "Epoch 3/5\n",
            "1875/1875 [==============================] - 128s 68ms/step - loss: 0.0321 - accuracy: 0.9899 - val_loss: 0.0262 - val_accuracy: 0.9921\n",
            "Epoch 4/5\n",
            "1875/1875 [==============================] - 128s 68ms/step - loss: 0.0261 - accuracy: 0.9918 - val_loss: 0.0292 - val_accuracy: 0.9918\n",
            "Epoch 5/5\n",
            "1875/1875 [==============================] - 129s 69ms/step - loss: 0.0204 - accuracy: 0.9934 - val_loss: 0.0347 - val_accuracy: 0.9893\n",
            "Fit Time :642.3643243312836\n"
          ]
        }
      ]
    },
    {
      "cell_type": "code",
      "source": [
        "import matplotlib.pyplot as plt\n",
        "\n",
        "plot_target = ['loss' , 'accuracy', 'val_loss', 'val_accuracy']\n",
        "plt.figure(figsize=(12, 8))\n",
        "\n",
        "for each in plot_target:\n",
        "    plt.plot(hist.history[each], label = each)\n",
        "plt.legend()\n",
        "plt.grid()\n",
        "plt.show()"
      ],
      "metadata": {
        "colab": {
          "base_uri": "https://localhost:8080/",
          "height": 432
        },
        "id": "91SC-0ccNMQK",
        "outputId": "fb529a41-1959-4370-e48d-36f401a41a53"
      },
      "execution_count": 4,
      "outputs": [
        {
          "output_type": "display_data",
          "data": {
            "text/plain": [
              "<Figure size 864x576 with 1 Axes>"
            ],
            "image/png": "[encoded data removed]"
          },
          "metadata": {
            "needs_background": "light"
          }
        }
      ]
    },
    {
      "cell_type": "code",
      "source": [
        "score = model.evaluate(X_test, y_test)\n",
        "print(f'Test Loss : {score[0]}')\n",
        "print(f'Test Accuracy  : {score[1]}')\n"
      ],
      "metadata": {
        "colab": {
          "base_uri": "https://localhost:8080/"
        },
        "id": "ks7DIjxIPr85",
        "outputId": "b379fb29-9266-4e86-be0b-808ba46bf979"
      },
      "execution_count": 5,
      "outputs": [
        {
          "output_type": "stream",
          "name": "stdout",
          "text": [
            "313/313 [==============================] - 7s 21ms/step - loss: 0.0347 - accuracy: 0.9893\n",
            "Test Loss : 0.03471061959862709\n",
            "Test Accuracy  : 0.989300012588501\n"
          ]
        }
      ]
    },
    {
      "cell_type": "code",
      "source": [
        "import numpy as np\n",
        "\n",
        "predicted_result = model.predict(X_test)\n",
        "predicted_labels = np.argmax(predicted_result,  axis=1)\n",
        "predicted_labels[:10]"
      ],
      "metadata": {
        "colab": {
          "base_uri": "https://localhost:8080/"
        },
        "id": "GXmcfMK1Pv9a",
        "outputId": "f54d24ca-0864-4317-9e90-6c235b65483d"
      },
      "execution_count": 6,
      "outputs": [
        {
          "output_type": "stream",
          "name": "stdout",
          "text": [
            "313/313 [==============================] - 7s 21ms/step\n"
          ]
        },
        {
          "output_type": "execute_result",
          "data": {
            "text/plain": [
              "array([7, 2, 1, 0, 4, 1, 4, 9, 5, 9])"
            ]
          },
          "metadata": {},
          "execution_count": 6
        }
      ]
    },
    {
      "cell_type": "code",
      "source": [
        "wrong_result = []\n",
        "for n in range(0, len(y_test)):\n",
        "    if predicted_labels[n] != y_test[n]:\n",
        "        wrong_result.append(n)\n",
        "        \n",
        "len(wrong_result)\n"
      ],
      "metadata": {
        "colab": {
          "base_uri": "https://localhost:8080/"
        },
        "id": "wtW8hyVKQZnP",
        "outputId": "ac77fd28-d11b-4637-d358-e24ce916bb61"
      },
      "execution_count": 7,
      "outputs": [
        {
          "output_type": "execute_result",
          "data": {
            "text/plain": [
              "107"
            ]
          },
          "metadata": {},
          "execution_count": 7
        }
      ]
    },
    {
      "cell_type": "code",
      "source": [
        "import random\n",
        "\n",
        "samples = random.choices(population=wrong_result, k =16)\n",
        "\n",
        "plt.figure(figsize=(14, 12))\n",
        "\n",
        "for idx, n in enumerate(samples):\n",
        "    plt.subplot(4, 4, idx + 1)\n",
        "    plt.imshow(X_test[n].reshape(28,28), cmap = 'Greys', interpolation='nearest')\n",
        "    plt.title('Label ' + str(y_test[n]) + ', Predict ' + str(predicted_labels[n]))\n",
        "    plt.axis('off')\n",
        "    \n",
        "plt.show()"
      ],
      "metadata": {
        "colab": {
          "base_uri": "https://localhost:8080/",
          "height": 576
        },
        "id": "kqY4IzrIQhpp",
        "outputId": "37e144c0-79bb-4456-8897-79d5aff8c448"
      },
      "execution_count": 8,
      "outputs": [
        {
          "output_type": "display_data",
          "data": {
            "text/plain": [
              "<Figure size 1008x864 with 16 Axes>"
            ],
            "image/png": "[encoded data removed]"
          },
          "metadata": {
            "needs_background": "light"
          }
        }
      ]
    },
    {
      "cell_type": "code",
      "source": [
        "model.save('MNIST_CNN_model.h5')\n"
      ],
      "metadata": {
        "id": "9CZHaAwiQma5"
      },
      "execution_count": 9,
      "outputs": []
    },
    {
      "cell_type": "code",
      "source": [],
      "metadata": {
        "id": "_mpszEF0QspO"
      },
      "execution_count": null,
      "outputs": []
    }
  ]
}